{
 "cells": [
  {
   "cell_type": "code",
   "execution_count": 1,
   "id": "cacf1138-7cbf-4a9a-9690-045cd1e5c4c0",
   "metadata": {},
   "outputs": [],
   "source": [
    "import pandas as pd\n",
    "import numpy as np\n"
   ]
  },
  {
   "cell_type": "code",
   "execution_count": 5,
   "id": "2d49893b-574d-4b76-90fa-328f4f3d0588",
   "metadata": {},
   "outputs": [],
   "source": [
    "df = pd.read_csv(\"groceries.csv\")"
   ]
  },
  {
   "cell_type": "code",
   "execution_count": 6,
   "id": "a2144fdf-13b3-4fe8-bfd2-3b1bfc38ffd5",
   "metadata": {},
   "outputs": [
    {
     "data": {
      "text/html": [
       "<div>\n",
       "<style scoped>\n",
       "    .dataframe tbody tr th:only-of-type {\n",
       "        vertical-align: middle;\n",
       "    }\n",
       "\n",
       "    .dataframe tbody tr th {\n",
       "        vertical-align: top;\n",
       "    }\n",
       "\n",
       "    .dataframe thead th {\n",
       "        text-align: right;\n",
       "    }\n",
       "</style>\n",
       "<table border=\"1\" class=\"dataframe\">\n",
       "  <thead>\n",
       "    <tr style=\"text-align: right;\">\n",
       "      <th></th>\n",
       "      <th>Item(s)</th>\n",
       "      <th>Item 1</th>\n",
       "      <th>Item 2</th>\n",
       "      <th>Item 3</th>\n",
       "      <th>Item 4</th>\n",
       "      <th>Item 5</th>\n",
       "      <th>Item 6</th>\n",
       "      <th>Item 7</th>\n",
       "      <th>Item 8</th>\n",
       "      <th>Item 9</th>\n",
       "      <th>...</th>\n",
       "      <th>Item 23</th>\n",
       "      <th>Item 24</th>\n",
       "      <th>Item 25</th>\n",
       "      <th>Item 26</th>\n",
       "      <th>Item 27</th>\n",
       "      <th>Item 28</th>\n",
       "      <th>Item 29</th>\n",
       "      <th>Item 30</th>\n",
       "      <th>Item 31</th>\n",
       "      <th>Item 32</th>\n",
       "    </tr>\n",
       "  </thead>\n",
       "  <tbody>\n",
       "    <tr>\n",
       "      <th>0</th>\n",
       "      <td>4</td>\n",
       "      <td>citrus fruit</td>\n",
       "      <td>semi-finished bread</td>\n",
       "      <td>margarine</td>\n",
       "      <td>ready soups</td>\n",
       "      <td>NaN</td>\n",
       "      <td>NaN</td>\n",
       "      <td>NaN</td>\n",
       "      <td>NaN</td>\n",
       "      <td>NaN</td>\n",
       "      <td>...</td>\n",
       "      <td>NaN</td>\n",
       "      <td>NaN</td>\n",
       "      <td>NaN</td>\n",
       "      <td>NaN</td>\n",
       "      <td>NaN</td>\n",
       "      <td>NaN</td>\n",
       "      <td>NaN</td>\n",
       "      <td>NaN</td>\n",
       "      <td>NaN</td>\n",
       "      <td>NaN</td>\n",
       "    </tr>\n",
       "    <tr>\n",
       "      <th>1</th>\n",
       "      <td>3</td>\n",
       "      <td>tropical fruit</td>\n",
       "      <td>yogurt</td>\n",
       "      <td>coffee</td>\n",
       "      <td>NaN</td>\n",
       "      <td>NaN</td>\n",
       "      <td>NaN</td>\n",
       "      <td>NaN</td>\n",
       "      <td>NaN</td>\n",
       "      <td>NaN</td>\n",
       "      <td>...</td>\n",
       "      <td>NaN</td>\n",
       "      <td>NaN</td>\n",
       "      <td>NaN</td>\n",
       "      <td>NaN</td>\n",
       "      <td>NaN</td>\n",
       "      <td>NaN</td>\n",
       "      <td>NaN</td>\n",
       "      <td>NaN</td>\n",
       "      <td>NaN</td>\n",
       "      <td>NaN</td>\n",
       "    </tr>\n",
       "    <tr>\n",
       "      <th>2</th>\n",
       "      <td>1</td>\n",
       "      <td>whole milk</td>\n",
       "      <td>NaN</td>\n",
       "      <td>NaN</td>\n",
       "      <td>NaN</td>\n",
       "      <td>NaN</td>\n",
       "      <td>NaN</td>\n",
       "      <td>NaN</td>\n",
       "      <td>NaN</td>\n",
       "      <td>NaN</td>\n",
       "      <td>...</td>\n",
       "      <td>NaN</td>\n",
       "      <td>NaN</td>\n",
       "      <td>NaN</td>\n",
       "      <td>NaN</td>\n",
       "      <td>NaN</td>\n",
       "      <td>NaN</td>\n",
       "      <td>NaN</td>\n",
       "      <td>NaN</td>\n",
       "      <td>NaN</td>\n",
       "      <td>NaN</td>\n",
       "    </tr>\n",
       "    <tr>\n",
       "      <th>3</th>\n",
       "      <td>4</td>\n",
       "      <td>pip fruit</td>\n",
       "      <td>yogurt</td>\n",
       "      <td>cream cheese</td>\n",
       "      <td>meat spreads</td>\n",
       "      <td>NaN</td>\n",
       "      <td>NaN</td>\n",
       "      <td>NaN</td>\n",
       "      <td>NaN</td>\n",
       "      <td>NaN</td>\n",
       "      <td>...</td>\n",
       "      <td>NaN</td>\n",
       "      <td>NaN</td>\n",
       "      <td>NaN</td>\n",
       "      <td>NaN</td>\n",
       "      <td>NaN</td>\n",
       "      <td>NaN</td>\n",
       "      <td>NaN</td>\n",
       "      <td>NaN</td>\n",
       "      <td>NaN</td>\n",
       "      <td>NaN</td>\n",
       "    </tr>\n",
       "    <tr>\n",
       "      <th>4</th>\n",
       "      <td>4</td>\n",
       "      <td>other vegetables</td>\n",
       "      <td>whole milk</td>\n",
       "      <td>condensed milk</td>\n",
       "      <td>long life bakery product</td>\n",
       "      <td>NaN</td>\n",
       "      <td>NaN</td>\n",
       "      <td>NaN</td>\n",
       "      <td>NaN</td>\n",
       "      <td>NaN</td>\n",
       "      <td>...</td>\n",
       "      <td>NaN</td>\n",
       "      <td>NaN</td>\n",
       "      <td>NaN</td>\n",
       "      <td>NaN</td>\n",
       "      <td>NaN</td>\n",
       "      <td>NaN</td>\n",
       "      <td>NaN</td>\n",
       "      <td>NaN</td>\n",
       "      <td>NaN</td>\n",
       "      <td>NaN</td>\n",
       "    </tr>\n",
       "  </tbody>\n",
       "</table>\n",
       "<p>5 rows × 33 columns</p>\n",
       "</div>"
      ],
      "text/plain": [
       "   Item(s)            Item 1               Item 2          Item 3  \\\n",
       "0        4      citrus fruit  semi-finished bread       margarine   \n",
       "1        3    tropical fruit               yogurt          coffee   \n",
       "2        1        whole milk                  NaN             NaN   \n",
       "3        4         pip fruit               yogurt    cream cheese   \n",
       "4        4  other vegetables           whole milk  condensed milk   \n",
       "\n",
       "                     Item 4 Item 5 Item 6 Item 7 Item 8 Item 9  ... Item 23  \\\n",
       "0               ready soups    NaN    NaN    NaN    NaN    NaN  ...     NaN   \n",
       "1                       NaN    NaN    NaN    NaN    NaN    NaN  ...     NaN   \n",
       "2                       NaN    NaN    NaN    NaN    NaN    NaN  ...     NaN   \n",
       "3              meat spreads    NaN    NaN    NaN    NaN    NaN  ...     NaN   \n",
       "4  long life bakery product    NaN    NaN    NaN    NaN    NaN  ...     NaN   \n",
       "\n",
       "  Item 24 Item 25 Item 26 Item 27 Item 28 Item 29 Item 30 Item 31 Item 32  \n",
       "0     NaN     NaN     NaN     NaN     NaN     NaN     NaN     NaN     NaN  \n",
       "1     NaN     NaN     NaN     NaN     NaN     NaN     NaN     NaN     NaN  \n",
       "2     NaN     NaN     NaN     NaN     NaN     NaN     NaN     NaN     NaN  \n",
       "3     NaN     NaN     NaN     NaN     NaN     NaN     NaN     NaN     NaN  \n",
       "4     NaN     NaN     NaN     NaN     NaN     NaN     NaN     NaN     NaN  \n",
       "\n",
       "[5 rows x 33 columns]"
      ]
     },
     "execution_count": 6,
     "metadata": {},
     "output_type": "execute_result"
    }
   ],
   "source": [
    "df.head()"
   ]
  },
  {
   "cell_type": "markdown",
   "id": "f6ee97b2-3873-4b2d-807a-b0aa5c8f28dd",
   "metadata": {},
   "source": [
    "# Data Preprocessing"
   ]
  },
  {
   "cell_type": "code",
   "execution_count": 7,
   "id": "49f68e22-7f76-4631-9323-7cd7eadef570",
   "metadata": {},
   "outputs": [],
   "source": [
    "# Drop unnecessary columns if any\n",
    "df_clean = df.drop(columns=['Item(s)'])\n",
    "\n",
    "# Fill NaN values with empty string or drop them (based on your requirement)\n",
    "df_clean.fillna('', inplace=True)"
   ]
  },
  {
   "cell_type": "code",
   "execution_count": 12,
   "id": "ddcf957a-f900-4f91-9f47-aa8155767330",
   "metadata": {},
   "outputs": [],
   "source": [
    "df_stack = df_clean.stack().reset_index(level=1, drop=True)\n",
    "\n",
    "df_onehot = pd.get_dummies(df_stack).groupby(level=0).sum()\n",
    "df_onehot = df_onehot.astype(bool).astype(int)  "
   ]
  },
  {
   "cell_type": "code",
   "execution_count": null,
   "id": "08ded42c-bbd4-40f9-a9b0-b1fbe2bb59ef",
   "metadata": {},
   "outputs": [],
   "source": [
    "!pip install mlxtend"
   ]
  },
  {
   "cell_type": "code",
   "execution_count": 15,
   "id": "f8ac42ee-3c33-4f64-8ecb-13440aefb1ff",
   "metadata": {},
   "outputs": [
    {
     "name": "stderr",
     "output_type": "stream",
     "text": [
      "C:\\Users\\rushi\\anaconda3\\Lib\\site-packages\\mlxtend\\frequent_patterns\\fpcommon.py:109: DeprecationWarning: DataFrames with non-bool types result in worse computationalperformance and their support might be discontinued in the future.Please use a DataFrame with bool type\n",
      "  warnings.warn(\n"
     ]
    },
    {
     "name": "stdout",
     "output_type": "stream",
     "text": [
      "      support                                         itemsets\n",
      "0    0.999898                                               ()\n",
      "1    0.033452                                       (UHT-milk)\n",
      "2    0.017692                                  (baking powder)\n",
      "3    0.052466                                           (beef)\n",
      "4    0.033249                                        (berries)\n",
      "..        ...                                              ...\n",
      "658  0.011896  (, whole milk, tropical fruit, root vegetables)\n",
      "659  0.014438          (, yogurt, root vegetables, whole milk)\n",
      "660  0.010473                     (, yogurt, whole milk, soda)\n",
      "661  0.015048           (, whole milk, tropical fruit, yogurt)\n",
      "662  0.010778       (, yogurt, whipped/sour cream, whole milk)\n",
      "\n",
      "[663 rows x 2 columns]\n"
     ]
    }
   ],
   "source": [
    "from mlxtend.frequent_patterns import apriori, association_rules\n",
    "\n",
    "# Generate frequent itemsets with min support\n",
    "frequent_itemsets = apriori(df_onehot, min_support=0.01, use_colnames=True)\n",
    "\n",
    "# Review the frequent itemsets\n",
    "print(frequent_itemsets)"
   ]
  },
  {
   "cell_type": "code",
   "execution_count": 16,
   "id": "ac32b14f-7d3a-4b04-b8cf-ade99218a1f5",
   "metadata": {},
   "outputs": [],
   "source": [
    "rules = association_rules(frequent_itemsets, metric=\"confidence\", min_threshold=0.5)"
   ]
  },
  {
   "cell_type": "code",
   "execution_count": 17,
   "id": "1ddbfef3-8c92-47ca-a73a-651f07ef3f0e",
   "metadata": {},
   "outputs": [
    {
     "name": "stdout",
     "output_type": "stream",
     "text": [
      "                                  antecedents     consequents  \\\n",
      "0                                  (UHT-milk)              ()   \n",
      "1                             (baking powder)              ()   \n",
      "2                                      (beef)              ()   \n",
      "3                                   (berries)              ()   \n",
      "4                                 (beverages)              ()   \n",
      "..                                        ...             ...   \n",
      "364      (yogurt, whole milk, tropical fruit)              ()   \n",
      "365                  (yogurt, tropical fruit)  (, whole milk)   \n",
      "366            (, yogurt, whipped/sour cream)    (whole milk)   \n",
      "367  (yogurt, whole milk, whipped/sour cream)              ()   \n",
      "368              (yogurt, whipped/sour cream)  (, whole milk)   \n",
      "\n",
      "     antecedent support  consequent support   support  confidence      lift  \\\n",
      "0              0.033452            0.999898  0.033452    1.000000  1.000102   \n",
      "1              0.017692            0.999898  0.017692    1.000000  1.000102   \n",
      "2              0.052466            0.999898  0.052364    0.998062  0.998164   \n",
      "3              0.033249            0.999898  0.033249    1.000000  1.000102   \n",
      "4              0.026029            0.999898  0.025928    0.996094  0.996195   \n",
      "..                  ...                 ...       ...         ...       ...   \n",
      "364            0.015150            0.999898  0.015048    0.993289  0.993390   \n",
      "365            0.029283            0.255414  0.015048    0.513889  2.011981   \n",
      "366            0.020641            0.255516  0.010778    0.522167  2.043580   \n",
      "367            0.010880            0.999898  0.010778    0.990654  0.990755   \n",
      "368            0.020742            0.255414  0.010778    0.519608  2.034372   \n",
      "\n",
      "     leverage  conviction  zhangs_metric  \n",
      "0    0.000003         inf       0.000105  \n",
      "1    0.000002         inf       0.000104  \n",
      "2   -0.000096    0.052466      -0.001938  \n",
      "3    0.000003         inf       0.000105  \n",
      "4   -0.000099    0.026029      -0.003906  \n",
      "..        ...         ...            ...  \n",
      "364 -0.000100    0.015150      -0.006711  \n",
      "365  0.007569    1.531719       0.518151  \n",
      "366  0.005504    1.558044       0.521425  \n",
      "367 -0.000101    0.010880      -0.009346  \n",
      "368  0.005480    1.549954       0.519218  \n",
      "\n",
      "[369 rows x 10 columns]\n"
     ]
    }
   ],
   "source": [
    "print(rules)"
   ]
  },
  {
   "cell_type": "code",
   "execution_count": 21,
   "id": "e24cbd61-93b4-4418-a9b4-bd0658179487",
   "metadata": {},
   "outputs": [],
   "source": [
    "def get_recommendations(item, top_n=3):\n",
    "    # Filter rules where 'item' is in the antecedents and the consequents are not empty\n",
    "    recommendations = rules[\n",
    "        (rules['antecedents'].apply(lambda x: item in str(x))) &\n",
    "        (rules['consequents'].apply(lambda x: len(x) > 0))\n",
    "    ]\n",
    "    \n",
    "    # Return the top N recommendations based on confidence\n",
    "    return recommendations[['antecedents', 'consequents', 'confidence']].head(top_n)"
   ]
  },
  {
   "cell_type": "code",
   "execution_count": 24,
   "id": "a39e3bef-bc7e-476e-8be3-cce1b0fb4942",
   "metadata": {},
   "outputs": [
    {
     "name": "stdout",
     "output_type": "stream",
     "text": [
      "          antecedents consequents  confidence\n",
      "87           (yogurt)          ()    0.999271\n",
      "92     (yogurt, beef)          ()    0.991304\n",
      "95  (yogurt, berries)          ()    1.000000\n"
     ]
    }
   ],
   "source": [
    "recommendations = get_recommendations('yogurt', top_n=3)\n",
    "print(recommendations)"
   ]
  }
 ],
 "metadata": {
  "kernelspec": {
   "display_name": "Python 3 (ipykernel)",
   "language": "python",
   "name": "python3"
  },
  "language_info": {
   "codemirror_mode": {
    "name": "ipython",
    "version": 3
   },
   "file_extension": ".py",
   "mimetype": "text/x-python",
   "name": "python",
   "nbconvert_exporter": "python",
   "pygments_lexer": "ipython3",
   "version": "3.11.7"
  }
 },
 "nbformat": 4,
 "nbformat_minor": 5
}
